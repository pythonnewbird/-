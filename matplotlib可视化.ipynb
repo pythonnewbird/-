{
 "cells": [
  {
   "cell_type": "code",
   "execution_count": null,
   "metadata": {
    "collapsed": true
   },
   "outputs": [],
   "source": [
    "#散点图\n",
    "import matplotlib.pyplot as plt\n",
    "import numpy as np\n",
    " \n",
    "def scatterplot(x_data, y_data, x_label=\"\", y_label=\"\", title=\"\", color = \"r\", yscale_log=False):\n",
    " \n",
    "   # Create the plot object\n",
    "   _, ax = plt.subplots()\n",
    " \n",
    "   # Plot the data, set the size (s), color and transparency (alpha)\n",
    "   # of the points\n",
    "   ax.scatter(x_data, y_data, s = 10, color = color, alpha = 0.75)\n",
    " \n",
    "   if yscale_log == True:\n",
    "       ax.set_yscale('log')\n",
    " \n",
    "   # Label the axes and provide a title\n",
    "   ax.set_title(title)\n",
    "   ax.set_xlabel(x_label)\n",
    "   ax.set_ylabel(y_label)\n"
   ]
  },
  {
   "cell_type": "code",
   "execution_count": null,
   "metadata": {
    "collapsed": true
   },
   "outputs": [],
   "source": [
    "#折线图\n",
    "def lineplot(x_data, y_data, x_label=\"\", y_label=\"\", title=\"\"):\n",
    "    # Create the plot object\n",
    "    _, ax = plt.subplots()\n",
    " \n",
    "    # Plot the best fit line, set the linewidth (lw), color and\n",
    "    # transparency (alpha) of the line\n",
    "    ax.plot(x_data, y_data, lw = 2, color = '#539caf', alpha = 1)\n",
    " \n",
    "    # Label the axes and provide a title\n",
    "    ax.set_title(title)\n",
    "    ax.set_xlabel(x_label)\n",
    "    ax.set_ylabel(y_label)\n",
    "\n"
   ]
  },
  {
   "cell_type": "code",
   "execution_count": null,
   "metadata": {
    "collapsed": true
   },
   "outputs": [],
   "source": [
    "#直方图\n",
    "def histogram(data, n_bins, cumulative=False, x_label = \"\", y_label = \"\", title = \"\"):\n",
    "    _, ax = plt.subplots()\n",
    "    ax.hist(data, n_bins = n_bins, cumulative = cumulative, color = '#539caf')\n",
    "    ax.set_ylabel(y_label)\n",
    "    ax.set_xlabel(x_label)\n",
    "    ax.set_title(title)\n"
   ]
  },
  {
   "cell_type": "code",
   "execution_count": null,
   "metadata": {
    "collapsed": true
   },
   "outputs": [],
   "source": [
    "#叠加直方图\n",
    "def overlaid_histogram(data1, data2, n_bins = 0, data1_name=\"\", data1_color=\"#539caf\", data2_name=\"\", data2_color=\"#7663b0\", x_label=\"\", y_label=\"\", title=\"\"):\n",
    "    # Set the bounds for the bins so that the two distributions are fairly compared\n",
    "    max_nbins = 10\n",
    "    data_range = [min(min(data1), min(data2)), max(max(data1), max(data2))]\n",
    "    binwidth = (data_range[1] - data_range[0]) / max_nbins\n",
    " \n",
    " \n",
    "    if n_bins == 0\n",
    "        bins = np.arange(data_range[0], data_range[1] + binwidth, binwidth)\n",
    "    else: \n",
    "        bins = n_bins\n",
    " \n",
    "    # Create the plot\n",
    "    _, ax = plt.subplots()\n",
    "    ax.hist(data1, bins = bins, color = data1_color, alpha = 1, label = data1_name)\n",
    "    ax.hist(data2, bins = bins, color = data2_color, alpha = 0.75, label = data2_name)\n",
    "    ax.set_ylabel(y_label)\n",
    "    ax.set_xlabel(x_label)\n",
    "    ax.set_title(title)\n",
    "    ax.legend(loc = 'best')"
   ]
  },
  {
   "cell_type": "code",
   "execution_count": null,
   "metadata": {
    "collapsed": true
   },
   "outputs": [],
   "source": [
    "#柱状图\n",
    "def barplot(x_data, y_data, error_data, x_label=\"\", y_label=\"\", title=\"\"):\n",
    "    _, ax = plt.subplots()\n",
    "    # Draw bars, position them in the center of the tick mark on the x-axis\n",
    "    ax.bar(x_data, y_data, color = '#539caf', align = 'center')\n",
    "    # Draw error bars to show standard deviation, set ls to 'none'\n",
    "    # to remove line between points\n",
    "    ax.errorbar(x_data, y_data, yerr = error_data, color = '#297083', ls = 'none', lw = 2, capthick = 2)\n",
    "    ax.set_ylabel(y_label)\n",
    "    ax.set_xlabel(x_label)\n",
    "    ax.set_title(title)"
   ]
  },
  {
   "cell_type": "code",
   "execution_count": null,
   "metadata": {
    "collapsed": true
   },
   "outputs": [],
   "source": [
    "def stackedbarplot(x_data, y_data_list, colors, y_data_names=\"\", x_label=\"\", y_label=\"\", title=\"\"):\n",
    "    _, ax = plt.subplots()\n",
    "    # Draw bars, one category at a time\n",
    "    for i in range(0, len(y_data_list)):\n",
    "        if i == 0:\n",
    "            ax.bar(x_data, y_data_list[i], color = colors[i], align = 'center', label = y_data_names[i])\n",
    "        else:\n",
    "            # For each category after the first, the bottom of the\n",
    "            # bar will be the top of the last category\n",
    "            ax.bar(x_data, y_data_list[i], color = colors[i], bottom = y_data_list[i - 1], align = 'center', label = y_data_names[i])\n",
    "    ax.set_ylabel(y_label)\n",
    "    ax.set_xlabel(x_label)\n",
    "    ax.set_title(title)\n",
    "    ax.legend(loc = 'upper right')"
   ]
  },
  {
   "cell_type": "code",
   "execution_count": null,
   "metadata": {
    "collapsed": true
   },
   "outputs": [],
   "source": [
    "def groupedbarplot(x_data, y_data_list, colors, y_data_names=\"\", x_label=\"\", y_label=\"\", title=\"\"):\n",
    "    _, ax = plt.subplots()\n",
    "    # Total width for all bars at one x location\n",
    "    total_width = 0.8\n",
    "    # Width of each individual bar\n",
    "    ind_width = total_width / len(y_data_list)\n",
    "    # This centers each cluster of bars about the x tick mark\n",
    "    alteration = np.arange(-(total_width/2), total_width/2, ind_width)\n",
    " \n",
    "    # Draw bars, one category at a time\n",
    "    for i in range(0, len(y_data_list)):\n",
    "        # Move the bar to the right on the x-axis so it doesn't\n",
    "        # overlap with previously drawn ones\n",
    "        ax.bar(x_data + alteration[i], y_data_list[i], color = colors[i], label = y_data_names[i], width = ind_width)\n",
    "    ax.set_ylabel(y_label)\n",
    "    ax.set_xlabel(x_label)\n",
    "    ax.set_title(title)\n",
    "    ax.legend(loc = 'upper right')"
   ]
  },
  {
   "cell_type": "code",
   "execution_count": null,
   "metadata": {
    "collapsed": true
   },
   "outputs": [],
   "source": [
    "#箱型图\n",
    "def boxplot(x_data, y_data, base_color=\"#539caf\", median_color=\"#297083\", x_label=\"\", y_label=\"\", title=\"\"):\n",
    "    _, ax = plt.subplots()\n",
    " \n",
    "    # Draw boxplots, specifying desired style\n",
    "    ax.boxplot(y_data\n",
    "               # patch_artist must be True to control box fill\n",
    "               , patch_artist = True\n",
    "               # Properties of median line\n",
    "               , medianprops = {'color': median_color}\n",
    "               # Properties of box\n",
    "               , boxprops = {'color': base_color, 'facecolor': base_color}\n",
    "               # Properties of whiskers\n",
    "               , whiskerprops = {'color': base_color}\n",
    "               # Properties of whisker caps\n",
    "               , capprops = {'color': base_color})\n",
    " \n",
    "    # By default, the tick label starts at 1 and increments by 1 for\n",
    "    # each box drawn. This sets the labels to the ones we want\n",
    "    ax.set_xticklabels(x_data)\n",
    "    ax.set_ylabel(y_label)\n",
    "    ax.set_xlabel(x_label)\n",
    "    ax.set_title(title)"
   ]
  }
 ],
 "metadata": {
  "kernelspec": {
   "display_name": "Python [conda root]",
   "language": "python",
   "name": "conda-root-py"
  },
  "language_info": {
   "codemirror_mode": {
    "name": "ipython",
    "version": 3
   },
   "file_extension": ".py",
   "mimetype": "text/x-python",
   "name": "python",
   "nbconvert_exporter": "python",
   "pygments_lexer": "ipython3",
   "version": "3.5.2"
  }
 },
 "nbformat": 4,
 "nbformat_minor": 1
}
